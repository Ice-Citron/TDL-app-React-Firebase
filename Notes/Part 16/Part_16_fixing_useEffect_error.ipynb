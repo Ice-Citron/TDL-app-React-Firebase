{
  "nbformat": 4,
  "nbformat_minor": 0,
  "metadata": {
    "colab": {
      "provenance": []
    },
    "kernelspec": {
      "name": "python3",
      "display_name": "Python 3"
    },
    "language_info": {
      "name": "python"
    }
  },
  "cells": [
    {
      "cell_type": "markdown",
      "source": [
        "August 19\n",
        "\n",
        "- https://claude.ai/chat/f1fa15b1-17b3-4356-9119-ab2cac0b8b84"
      ],
      "metadata": {
        "id": "sX0NGxr5noWS"
      }
    },
    {
      "cell_type": "markdown",
      "source": [
        "tutorial told me to wrote this instead. with the secondary argument being an empty array only []\n",
        "\n",
        "why is this working? as in why is empty array preventing it being called infinitely, but [fireDB, todosRef] not working? fyi fireDB is firestore initialised from config\n",
        "\n",
        "---\n",
        "\n",
        "The empty array `[]` as the second argument to `useEffect` is working because it tells React to run the effect only once, when the component mounts. This prevents the effect from running on every render, which could lead to infinite loops or unnecessary database calls.\n",
        "\n",
        "Here's why:\n",
        "\n",
        "1. `useEffect(() => {...}, [])`: The empty array means the effect has no dependencies. It runs once after the initial render and never again.\n",
        "\n",
        "2. `useEffect(() => {...}, [fireDB, todosRef])`: This would run the effect whenever `fireDB` or `todosRef` change. If these are being recreated on every render (which is likely if they're not memoized), it could cause the effect to run repeatedly.\n",
        "\n",
        "The reason `[fireDB, todosRef]` might be causing issues:\n",
        "\n",
        "1. Object identity: If `fireDB` or `todosRef` are created in the component body, they'll have a new identity each render, triggering the effect repeatedly.\n",
        "\n",
        "2. Initialization timing: If `fireDB` is initialized from a config, it might not be fully ready when the effect first runs, causing errors.\n",
        "\n",
        "3. Circular dependencies: The effect might be updating state that causes a re-render, which then recreates `fireDB` or `todosRef`, triggering the effect again.\n",
        "\n",
        "To fix this while still properly declaring dependencies:\n",
        "\n",
        "1. Ensure `fireDB` and `todosRef` are stable (use `useMemo` or initialize outside the component).\n",
        "2. If they're truly constant, you can define them outside the component entirely.\n",
        "3. If the Firestore instance is needed only for this effect, consider initializing it inside the effect.\n",
        "\n",
        "Example of a potential fix:\n",
        "\n",
        "```javascript\n",
        "const fireDB = useMemo(() => firebase.firestore(), []);\n",
        "const todosRef = useMemo(() => fireDB.collection('todos'), [fireDB]);\n",
        "\n",
        "useEffect(() => {\n",
        "  let unsubscribe = onSnapshot(todosRef, (snapshot) => {\n",
        "    // ... rest of your code\n",
        "  });\n",
        "  return () => unsubscribe();\n",
        "}, [todosRef]); // Now todosRef is stable and can be a dependency\n",
        "```\n",
        "\n",
        "This approach ensures the effect runs when needed without causing infinite loops."
      ],
      "metadata": {
        "id": "WvSZz2uqnoT_"
      }
    },
    {
      "cell_type": "markdown",
      "source": [],
      "metadata": {
        "id": "rgjEo7tbnoRo"
      }
    }
  ]
}