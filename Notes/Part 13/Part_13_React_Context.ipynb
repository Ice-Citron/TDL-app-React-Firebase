{
  "nbformat": 4,
  "nbformat_minor": 0,
  "metadata": {
    "colab": {
      "provenance": []
    },
    "kernelspec": {
      "name": "python3",
      "display_name": "Python 3"
    },
    "language_info": {
      "name": "python"
    }
  },
  "cells": [
    {
      "cell_type": "markdown",
      "source": [
        "# August 18 - Firebase\n",
        "\n",
        "- https://chatgpt.com/c/4ae50207-dbce-4e7a-8747-0bddf9003a57\n",
        "- https://claude.ai/chat/c4803a85-ed81-4292-88d9-337663b48ab7"
      ],
      "metadata": {
        "id": "OZyG5UC1Fh2i"
      }
    },
    {
      "cell_type": "markdown",
      "source": [
        "what would these do?\n",
        "\n",
        "---\n",
        "\n",
        "Here's a breakdown of what each of these actions will do for your project, involving the integration between Firebase and GitHub through GitHub Actions:\n",
        "\n",
        "1. **Service Account Creation and Configuration**:\n",
        "   - **Service Account Creation**: A service account `github-action-840984158` with Firebase Hosting admin permissions is created. This account is used by GitHub Actions to interact with Firebase on your behalf, allowing for automated deployments and other operations.\n",
        "   - **Uploading Service Account JSON to GitHub**: The JSON file containing credentials for the service account is uploaded to your GitHub repository's secrets under the name `FIREBASE_SERVICE_ACCOUNT_TDL_APP_D2216`. GitHub secrets store sensitive data like API keys and passwords, providing a secure way to use these credentials in GitHub Actions without exposing them in your code.\n",
        "\n",
        "2. **Workflow Setup for Build and Deploy**:\n",
        "   - **Build Script Configuration**: You've configured a GitHub Action to run specific scripts (`npm ci && npm run build`) before every deployment. `npm ci` cleans the existing node_modules and installs project dependencies strictly according to the `package-lock.json`, ensuring consistent dependencies across environments. `npm run build` compiles your React application into static files ready for deployment.\n",
        "   - **Workflow File Creation**:\n",
        "     - `firebase-hosting-pull-request.yml`: This workflow is triggered for pull requests. It builds your application and potentially deploys it to a preview channel in Firebase Hosting, allowing you to test changes in a live environment before merging.\n",
        "     - `firebase-hosting-merge.yml`: This workflow is triggered when changes are merged to the `main` branch. It automatically deploys your built application to the live channel on Firebase Hosting, ensuring your production site is updated with the latest changes.\n",
        "\n",
        "3. **Additional Setup and Clean-up**:\n",
        "   - **GitHub OAuth App Revocation**: The message suggests visiting a URL to revoke authorization for the Firebase CLI GitHub OAuth App, which might be necessary if you are changing permissions or no longer wish to use this integration.\n",
        "   - **Push Workflow Files**: There's a reminder to push any newly created or updated workflow files to your repository to activate or update the GitHub Actions based on these workflows.\n",
        "   - **Firebase Project Configuration Files**:\n",
        "     - `firebase.json`: Contains configuration details for Firebase services used by your application (e.g., hosting configurations).\n",
        "     - `.firebaserc`: Stores project aliases and other global configurations for your Firebase project.\n",
        "\n",
        "4. **Completion Notification**: Indicates that the Firebase project initialization is complete, integrating your local development environment with Firebase services and setting up continuous deployment through GitHub.\n",
        "\n",
        "This setup automates your deployment process, making it efficient to manage and deploy updates to your Firebase-hosted application directly through GitHub pull requests and merges. It's a robust workflow that integrates development and deployment processes, ensuring consistency and reliability in how your application is built and deployed."
      ],
      "metadata": {
        "id": "JFLh90rOFh0K"
      }
    },
    {
      "cell_type": "markdown",
      "source": [
        "# August 18 - Part 13"
      ],
      "metadata": {
        "id": "_-o5J3jBFxRh"
      }
    },
    {
      "cell_type": "markdown",
      "source": [],
      "metadata": {
        "id": "i4uYtm6EFxOq"
      }
    },
    {
      "cell_type": "markdown",
      "source": [],
      "metadata": {
        "id": "dNz3R7ErFxMY"
      }
    },
    {
      "cell_type": "markdown",
      "source": [],
      "metadata": {
        "id": "UCtWxnm7FxKK"
      }
    },
    {
      "cell_type": "code",
      "execution_count": null,
      "metadata": {
        "id": "AhHVFYPrMKHg"
      },
      "outputs": [],
      "source": []
    }
  ]
}